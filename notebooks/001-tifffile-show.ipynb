{
 "metadata": {
  "language_info": {
   "codemirror_mode": {
    "name": "ipython",
    "version": 3
   },
   "file_extension": ".py",
   "mimetype": "text/x-python",
   "name": "python",
   "nbconvert_exporter": "python",
   "pygments_lexer": "ipython3",
   "version": "3.8.3-final"
  },
  "orig_nbformat": 2,
  "kernelspec": {
   "name": "python3",
   "display_name": "Python 3",
   "language": "python"
  }
 },
 "nbformat": 4,
 "nbformat_minor": 2,
 "cells": [
  {
   "source": [
    "# Overview\n",
    "\n",
    "- tiff fileとか初めて触る.\n",
    "- tifffileっていうモジュ―ル使ってる人みたので参考にする.\n",
    "- 1e2425f28.tiffのプロパティみたけどクソ重い(2.8 GB)\n",
    "\n",
    "<hr>\n",
    "About tifffile module\n",
    "\n",
    "1. moduleインポート\n",
    "2. 変数にtiff格納(tifffile.imread()を使うっぽい)\n",
    "\n",
    "    ex.)image = tifffile.imread('image.tiff')\n",
    "<hr>\n",
    "\n",
    "- 今回は元画像1024x1024 pxのtiffデータを256x256pxに四回に分けている人を見つけたので参考にする."
   ],
   "cell_type": "markdown",
   "metadata": {}
  },
  {
   "source": [
    "# Import Modules"
   ],
   "cell_type": "markdown",
   "metadata": {}
  },
  {
   "cell_type": "code",
   "execution_count": 1,
   "metadata": {},
   "outputs": [],
   "source": [
    "import numpy as np\n",
    "import pandas as pd\n",
    "import matplotlib.pyplot as plt\n",
    "from PIL import Image\n",
    "import tifffile as tiff\n",
    "import cv2\n",
    "import os\n",
    "from tqdm.notebook import tqdm\n",
    "import zipfile"
   ]
  },
  {
   "source": [
    "# PATH I need "
   ],
   "cell_type": "markdown",
   "metadata": {}
  },
  {
   "cell_type": "code",
   "execution_count": 2,
   "metadata": {},
   "outputs": [],
   "source": [
    "MASKS_PATH = '../data_ignore/datasets/train.csv'\n",
    "DATA_PATH = '../data_ignore/datasets/train'"
   ]
  },
  {
   "cell_type": "code",
   "execution_count": null,
   "metadata": {},
   "outputs": [],
   "source": [
    "size - 256\n",
    "reduce = 4\n"
   ]
  }
 ]
}