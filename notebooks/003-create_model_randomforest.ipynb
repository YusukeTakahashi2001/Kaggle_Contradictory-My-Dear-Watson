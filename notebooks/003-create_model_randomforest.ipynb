{
 "metadata": {
  "language_info": {
   "codemirror_mode": {
    "name": "ipython",
    "version": 3
   },
   "file_extension": ".py",
   "mimetype": "text/x-python",
   "name": "python",
   "nbconvert_exporter": "python",
   "pygments_lexer": "ipython3",
   "version": "3.8.5-final"
  },
  "orig_nbformat": 2,
  "kernelspec": {
   "name": "python3",
   "display_name": "Python 3",
   "language": "python"
  }
 },
 "nbformat": 4,
 "nbformat_minor": 2,
 "cells": [
  {
   "source": [
    "# Overview\n",
    "### score\n",
    "\n",
    "### csv_file\n",
    "\n",
    "\n",
    "<hr>\n",
    "### Action\n",
    "\n",
    "- U-Netを使用\n",
    "- 画像サイズはリサイズ\n",
    "    600x600\n"
   ],
   "cell_type": "markdown",
   "metadata": {}
  },
  {
   "source": [
    "# Module"
   ],
   "cell_type": "markdown",
   "metadata": {}
  },
  {
   "cell_type": "code",
   "execution_count": 35,
   "metadata": {},
   "outputs": [],
   "source": [
    "import numpy as np\n",
    "import pandas as pd\n",
    "import json\n",
    "import sys,os\n",
    "from comet_ml import Experiment\n",
    "# torch\n",
    "import torch\n",
    "from torch import optim\n",
    "import torch.nn as nn\n",
    "# scripts\n",
    "sys.path.append('../')\n",
    "from scripts.utility_func import *\n",
    "from scripts.Eval_Dice_coefficient import *\n",
    "# models\n",
    "from data.models import model_001"
   ]
  },
  {
   "cell_type": "code",
   "execution_count": 31,
   "metadata": {},
   "outputs": [
    {
     "output_type": "stream",
     "name": "stdout",
     "text": [
      "cuda\n"
     ]
    }
   ],
   "source": [
    "NB = '003'\n",
    "DEVICE = 'cuda' if torch.cuda.is_available() else 'cpu'\n",
    "print(DEVICE)\n",
    "\n",
    "# hyper params\n",
    "hyper_params = {\n",
    "    \"learning_rate\":0.01,\n",
    "    \"img_size\":200,\n",
    "    \"batch_size\": 16,\n",
    "    \"num_epochs\": 10,\n",
    "}\n"
   ]
  },
  {
   "source": [
    "# Path"
   ],
   "cell_type": "markdown",
   "metadata": {}
  },
  {
   "cell_type": "code",
   "execution_count": 16,
   "metadata": {},
   "outputs": [],
   "source": [
    "DATASET_PATH = \"../data_ignore/datasets/\"\n",
    "FEATURES_PATH = \"../data/features/\"\n",
    "TRAIN_PATH  =  os.path.join(DATASET_PATH,\"train\")\n",
    "TEST_PATH = os.path.join(DATASET_PATH,\"test\")\n",
    "\n",
    "df_train = pd.read_csv(os.path.join(DATASET_PATH,\"train.csv\"))\n",
    "df_sub = pd.read_csv(os.path.join(DATASET_PATH,'sample_submission.csv'))\n",
    "df_info = pd.read_csv(os.path.join(FEATURES_PATH,'001-info_features.csv'))"
   ]
  },
  {
   "source": [
    "# Experiment"
   ],
   "cell_type": "markdown",
   "metadata": {}
  },
  {
   "cell_type": "code",
   "execution_count": 32,
   "metadata": {},
   "outputs": [
    {
     "output_type": "stream",
     "name": "stderr",
     "text": [
      "COMET INFO: ---------------------------\n",
      "COMET INFO: Comet.ml Experiment Summary\n",
      "COMET INFO: ---------------------------\n",
      "COMET INFO:   Data:\n",
      "COMET INFO:     display_summary_level : 1\n",
      "COMET INFO:     url                   : https://www.comet.ml/yusuketakahashi2001/kaggle-hubmap-hacking-the-kidney/573cd5e2eebe4cfe8185cec11c22c5cc\n",
      "COMET INFO:   Uploads:\n",
      "COMET INFO:     environment details      : 1\n",
      "COMET INFO:     filename                 : 1\n",
      "COMET INFO:     git metadata             : 1\n",
      "COMET INFO:     git-patch (uncompressed) : 1 (5 MB)\n",
      "COMET INFO:     installed packages       : 1\n",
      "COMET INFO:     os packages              : 1\n",
      "COMET INFO: ---------------------------\n",
      "COMET INFO: Experiment is live on comet.ml https://www.comet.ml/yusuketakahashi2001/kaggle-hubmap-hacking-the-kidney/d7db94ef2d37480881764bc8d57465ce\n",
      "\n"
     ]
    }
   ],
   "source": [
    "json_data = json.load(open('../config/Comet.json','r'))\n",
    "experiment = Experiment(\n",
    "    api_key = json_data[\"comet\"][\"api_key\"],\n",
    "    project_name = json_data[\"comet\"][\"project_name\"],\n",
    "    workspace = json_data[\"comet\"][\"workspace\"],\n",
    ")"
   ]
  },
  {
   "source": [
    "# Dataset"
   ],
   "cell_type": "markdown",
   "metadata": {}
  },
  {
   "cell_type": "code",
   "execution_count": null,
   "metadata": {},
   "outputs": [],
   "source": []
  },
  {
   "source": [
    "# Network"
   ],
   "cell_type": "markdown",
   "metadata": {}
  },
  {
   "cell_type": "code",
   "execution_count": 36,
   "metadata": {},
   "outputs": [],
   "source": [
    "experiment.log_parameters(hyper_params)\n",
    "net = model_001.HuBMAPModel()\n",
    "lossF = nn.MSELoss()\n",
    "optimizer = optim.Adam(net.parameters(),lr=hyper_params[\"learning_rate\"])"
   ]
  },
  {
   "cell_type": "code",
   "execution_count": null,
   "metadata": {},
   "outputs": [],
   "source": []
  }
 ]
}